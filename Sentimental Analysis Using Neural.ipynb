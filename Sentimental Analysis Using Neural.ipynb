{
 "cells": [
  {
   "cell_type": "markdown",
   "id": "09d27865",
   "metadata": {},
   "source": [
    "# **Library**"
   ]
  },
  {
   "cell_type": "code",
   "execution_count": null,
   "id": "c4fe413a",
   "metadata": {},
   "outputs": [],
   "source": [
    "import pandas as pd\n",
    "import numpy as np\n",
    "import matplotlib.pyplot as plt\n",
    "import warnings\n",
    "warnings.filterwarnings('ignore')\n",
    "from keras.callbacks import EarlyStopping"
   ]
  },
  {
   "cell_type": "code",
   "execution_count": 2,
   "id": "6386a4fc-3ab4-4934-9b71-52e0626f6f1f",
   "metadata": {},
   "outputs": [],
   "source": [
    "df =  pd.read_csv('train.txt',header=None,sep=';',names=['Text','Emotion'])"
   ]
  },
  {
   "cell_type": "code",
   "execution_count": 3,
   "id": "23b79397-06fc-40a4-97c6-f92b00a8bfb0",
   "metadata": {},
   "outputs": [
    {
     "data": {
      "text/html": [
       "<div>\n",
       "<style scoped>\n",
       "    .dataframe tbody tr th:only-of-type {\n",
       "        vertical-align: middle;\n",
       "    }\n",
       "\n",
       "    .dataframe tbody tr th {\n",
       "        vertical-align: top;\n",
       "    }\n",
       "\n",
       "    .dataframe thead th {\n",
       "        text-align: right;\n",
       "    }\n",
       "</style>\n",
       "<table border=\"1\" class=\"dataframe\">\n",
       "  <thead>\n",
       "    <tr style=\"text-align: right;\">\n",
       "      <th></th>\n",
       "      <th>Text</th>\n",
       "      <th>Emotion</th>\n",
       "    </tr>\n",
       "  </thead>\n",
       "  <tbody>\n",
       "    <tr>\n",
       "      <th>0</th>\n",
       "      <td>i didnt feel humiliated</td>\n",
       "      <td>sadness</td>\n",
       "    </tr>\n",
       "    <tr>\n",
       "      <th>1</th>\n",
       "      <td>i can go from feeling so hopeless to so damned...</td>\n",
       "      <td>sadness</td>\n",
       "    </tr>\n",
       "    <tr>\n",
       "      <th>2</th>\n",
       "      <td>im grabbing a minute to post i feel greedy wrong</td>\n",
       "      <td>anger</td>\n",
       "    </tr>\n",
       "    <tr>\n",
       "      <th>3</th>\n",
       "      <td>i am ever feeling nostalgic about the fireplac...</td>\n",
       "      <td>love</td>\n",
       "    </tr>\n",
       "    <tr>\n",
       "      <th>4</th>\n",
       "      <td>i am feeling grouchy</td>\n",
       "      <td>anger</td>\n",
       "    </tr>\n",
       "  </tbody>\n",
       "</table>\n",
       "</div>"
      ],
      "text/plain": [
       "                                                Text  Emotion\n",
       "0                            i didnt feel humiliated  sadness\n",
       "1  i can go from feeling so hopeless to so damned...  sadness\n",
       "2   im grabbing a minute to post i feel greedy wrong    anger\n",
       "3  i am ever feeling nostalgic about the fireplac...     love\n",
       "4                               i am feeling grouchy    anger"
      ]
     },
     "execution_count": 3,
     "metadata": {},
     "output_type": "execute_result"
    }
   ],
   "source": [
    "df.head()"
   ]
  },
  {
   "cell_type": "code",
   "execution_count": 4,
   "id": "57ab89ce-6dfe-4f03-beb4-01cae1be7e9f",
   "metadata": {},
   "outputs": [],
   "source": [
    "df['length'] = len(df['Text'])\n",
    "for i in range(0,int(len(df))):\n",
    "    df['length'][i] = len(df['Text'][i])"
   ]
  },
  {
   "cell_type": "code",
   "execution_count": null,
   "id": "42d7a8ac-be2e-4130-8f46-11dcec28fa9d",
   "metadata": {},
   "outputs": [],
   "source": [
    "df.tail()"
   ]
  },
  {
   "cell_type": "markdown",
   "id": "aa9e17c5",
   "metadata": {},
   "source": [
    "# **Visualize Data**"
   ]
  },
  {
   "cell_type": "code",
   "execution_count": null,
   "id": "6f14388a-9558-41fe-81f7-636112e4d231",
   "metadata": {},
   "outputs": [],
   "source": [
    "plt.style.use('ggplot')\n",
    "df['Emotion'].value_counts().sort_values(ascending=True).plot(kind='bar')\n",
    "plt.show()"
   ]
  },
  {
   "cell_type": "markdown",
   "id": "0946f9f0-94a7-4f96-9266-2a0b91bea5b3",
   "metadata": {},
   "source": [
    "# **Model Train**"
   ]
  },
  {
   "cell_type": "code",
   "execution_count": null,
   "id": "2351ac02-cfc9-4e52-a52d-078e5292486e",
   "metadata": {},
   "outputs": [],
   "source": [
    "import spacy\n",
    "from tensorflow.keras.preprocessing.text import one_hot\n",
    "from tensorflow.keras.preprocessing.sequence import pad_sequences\n",
    "from tensorflow.keras.utils import to_categorical\n",
    "from sklearn.preprocessing import LabelEncoder"
   ]
  },
  {
   "cell_type": "code",
   "execution_count": null,
   "id": "1894e27c",
   "metadata": {},
   "outputs": [],
   "source": [
    "nlp = spacy.load('en_core_web_sm')\n",
    "\n",
    "def text_processing(text, vocab_size, max_len):\n",
    "    doc = nlp(text)\n",
    "    tokens = []\n",
    "    for token in doc:\n",
    "        if not token.is_stop and not token.is_punct:\n",
    "            tokens.append(token.lemma_)\n",
    "    processed_text = ' '.join(tokens)\n",
    "    one_hot_word = one_hot(input_text=processed_text, n=vocab_size)\n",
    "    pad = pad_sequences(sequences=[one_hot_word], maxlen=max_len, padding='pre')[0]  # Extract the first element to avoid extra dimension\n",
    "    return pad"
   ]
  },
  {
   "cell_type": "code",
   "execution_count": null,
   "id": "5ec609b0",
   "metadata": {},
   "outputs": [],
   "source": [
    "vocab_size = 11000 \n",
    "max_len = 300     \n",
    "\n",
    "X_train = df['Text'].apply(lambda x: text_processing(x, vocab_size, max_len))\n",
    "X_train = np.stack(X_train.values)  # Convert to numpy array\n",
    "\n",
    "# Encode string labels to integers\n",
    "label = LabelEncoder()\n",
    "integer_encoded = label.fit_transform(df['Emotion'])\n",
    "\n",
    "y_train = to_categorical(integer_encoded)\n",
    "\n",
    "print(X_train.shape)  # Ensure it is of shape (num_samples, max_len)\n",
    "print(y_train.shape)  # Ensure it is of shape (num_samples, num_classes)"
   ]
  },
  {
   "cell_type": "markdown",
   "id": "f0b52e9c",
   "metadata": {},
   "source": [
    "# **Building Neural Network**"
   ]
  },
  {
   "cell_type": "code",
   "execution_count": null,
   "id": "886c267f-dfe1-45aa-9482-c87b9e18c248",
   "metadata": {},
   "outputs": [],
   "source": [
    "\n",
    "from tensorflow.keras.models import Sequential\n",
    "from tensorflow.keras.layers import Dense, Embedding, LSTM\n",
    "from tensorflow.keras.callbacks import EarlyStopping\n",
    "\n"
   ]
  },
  {
   "cell_type": "code",
   "execution_count": null,
   "id": "0f92bf1b",
   "metadata": {},
   "outputs": [],
   "source": [
    "model = Sequential()\n",
    "model.add(Embedding(input_dim=vocab_size, output_dim=128, input_length=max_len))\n",
    "model.add(Dropout(0.2))\n",
    "model.add(LSTM(64))\n",
    "model.add(Dropout(0.2))\n",
    "model.add(Dense(len(label.classes_), activation='softmax'))\n"
   ]
  },
  {
   "cell_type": "markdown",
   "id": "9b534736",
   "metadata": {},
   "source": [
    "# **Compile**"
   ]
  },
  {
   "cell_type": "code",
   "execution_count": null,
   "id": "6830bbd0",
   "metadata": {},
   "outputs": [],
   "source": [
    "model.compile(optimizer='adam', loss='categorical_crossentropy', metrics=['accuracy'])"
   ]
  },
  {
   "cell_type": "markdown",
   "id": "7ad348bc",
   "metadata": {},
   "source": [
    "# **Fit Model**"
   ]
  },
  {
   "cell_type": "code",
   "execution_count": null,
   "id": "415828d3",
   "metadata": {},
   "outputs": [],
   "source": [
    "callback = EarlyStopping(monitor=\"val_loss\", patience=2, restore_best_weights=True)\n",
    "history = model.fit(X_train, y_train, epochs=20, callbacks=[callback], validation_split=0.2)"
   ]
  },
  {
   "cell_type": "code",
   "execution_count": null,
   "id": "2e0d2166-d8db-455d-b6c6-bd2a85674ec7",
   "metadata": {},
   "outputs": [],
   "source": [
    "import pickle\n",
    "pickle.dump(open(''))"
   ]
  },
  {
   "cell_type": "code",
   "execution_count": null,
   "id": "ec72c5d7-92be-4cbc-9ed0-1c3f4b856eac",
   "metadata": {},
   "outputs": [],
   "source": [
    "\n",
    "def text_processing(text, vocab_size, max_len):\n",
    "    doc = nlp(text)\n",
    "    tokens = []\n",
    "    for token in doc:\n",
    "        if not token.is_stop and not token.is_punct:\n",
    "            tokens.append(token.lemma_)\n",
    "    processed_text = ' '.join(tokens)\n",
    "    return processed_text\n",
    "\n",
    "# Preprocess the input text\n",
    "sentence = \"i am feeling grouchy\"\n",
    "processed_sentence = text_processing(sentence, vocab_size, max_len)\n",
    "\n",
    "# Convert processed sentence to one-hot encoding\n",
    "one_hot_word = one_hot(input_text=processed_sentence, n=vocab_size)\n",
    "padded_sequence = pad_sequences(sequences=[one_hot_word], maxlen=max_len, padding='pre')\n",
    "\n",
    "# Make prediction\n",
    "result = label.inverse_transform(np.argmax(model.predict(padded_sequence), axis=-1))[0]\n",
    "proba = np.max(model.predict(padded_sequence))\n",
    "\n",
    "print(f\"{result} : {proba}\\n\\n\")\n"
   ]
  },
  {
   "cell_type": "code",
   "execution_count": null,
   "id": "41a6f3d9-5f1e-4ead-993a-7b7361fe312c",
   "metadata": {},
   "outputs": [],
   "source": []
  }
 ],
 "metadata": {
  "kernelspec": {
   "display_name": "base",
   "language": "python",
   "name": "python3"
  },
  "language_info": {
   "codemirror_mode": {
    "name": "ipython",
    "version": 3
   },
   "file_extension": ".py",
   "mimetype": "text/x-python",
   "name": "python",
   "nbconvert_exporter": "python",
   "pygments_lexer": "ipython3",
   "version": "3.11.5"
  }
 },
 "nbformat": 4,
 "nbformat_minor": 5
}
